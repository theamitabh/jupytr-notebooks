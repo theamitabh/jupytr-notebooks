{
  "nbformat": 4,
  "nbformat_minor": 0,
  "metadata": {
    "colab": {
      "name": "LoanApplication.ipynb",
      "provenance": [],
      "collapsed_sections": []
    },
    "kernelspec": {
      "name": "python3",
      "display_name": "Python 3"
    }
  },
  "cells": [
    {
      "cell_type": "markdown",
      "metadata": {
        "id": "AtgVCmKKXL4N",
        "colab_type": "text"
      },
      "source": [
        "**About Company**\n",
        "\n",
        "Dream Housing Finance company deals in all home loans. They have presence across all urban, semi urban and rural areas. Customer first apply for home loan after that company validates the customer eligibility for loan.\n",
        "\n",
        "**Problem**\n",
        "\n",
        "Company wants to automate the loan eligibility process (real time) based on customer detail provided while filling online application form. These details are Gender, Marital Status, Education, Number of Dependents, Income, Loan Amount, Credit History and others. To automate this process, they have given a problem to identify the customers segments, those are eligible for loan amount so that they can specifically target these customers. Here they have provided a partial data set.\n",
        "\n",
        "**Data**\n",
        "\n",
        "|Data|Variable| \n",
        "|----|--------|  \n",
        "|Loan_ID |Unique Loan ID| \n",
        "|Gender |Male/ Female| \n",
        "|Married |\tApplicant married (Y/N) | \n",
        "|Dependents | Number of dependents |\n",
        "|Education |\tApplicant Education (Graduate/ Under Graduate) |\n",
        "|Self_Employed | \tSelf employed (Y/N) |\n",
        "|ApplicantIncome |Applicant income |\n",
        "|CoapplicantIncome |Coapplicant income |\n",
        "|LoanAmount | Loan amount in thousands |\n",
        "|Loan_Amount_Term | Loan_Amount_Term |\n",
        "|Credit_History | \tcredit history meets guidelines |\n",
        "|Property_Area | Urban/ Semi Urban/ Rural|\n",
        "|Loan_Status|\tLoan approved (Y/N)|\n"
      ]
    },
    {
      "cell_type": "code",
      "metadata": {
        "id": "jEKeSk5SBpip",
        "colab_type": "code",
        "colab": {}
      },
      "source": [
        "import pandas as pd \n",
        "import numpy as np                     # For mathematical calculations \n",
        "import seaborn as sns                  # For data visualization \n",
        "import matplotlib.pyplot as plt        # For plotting graphs \n",
        "%matplotlib inline \n",
        "import warnings                        # To ignore any warnings warnings.filterwarnings(\"ignore\")\n",
        "\n",
        "test=pd.read_csv(\"https://github.com/theamitabh/jupytr-notebooks/raw/master/test_lAUu6dG.csv\")\n",
        "train=pd.read_csv(\"https://github.com/theamitabh/jupytr-notebooks/raw/master/train_ctrUa4K.csv\")\n",
        "\n",
        "# keep a copy \n",
        "train_original=train.copy() \n",
        "test_original=test.copy()\n"
      ],
      "execution_count": 0,
      "outputs": []
    },
    {
      "cell_type": "markdown",
      "metadata": {
        "id": "QLOUUUsZZxRu",
        "colab_type": "text"
      },
      "source": [
        "**Explore data**  \n",
        "```\n",
        "Variable\tDescription\n",
        "Loan_ID\tUnique Loan ID\n",
        "Gender\tMale/ Female\n",
        "Married\tApplicant married (Y/N)\n",
        "Dependents\tNumber of dependents\n",
        "Education\tApplicant Education (Graduate/Under Graduate)\n",
        "Self_Employed\tSelf employed (Y/N)\n",
        "ApplicantIncome\tApplicant income\n",
        "CoapplicantIncome\tCoapplicant income\n",
        "LoanAmount\tLoan amount in thousands\n",
        "Loan_Amount_Term\tTerm of loan in months\n",
        "Credit_History\tCredit history meets guidelines\n",
        "Property_Area\tUrban/ Semi Urban/ Rural\n",
        "Loan_Status\tLoan approved (Y/N)  - target value\n",
        "```\n",
        "\n"
      ]
    },
    {
      "cell_type": "code",
      "metadata": {
        "id": "yYQ8iLadDuzm",
        "colab_type": "code",
        "outputId": "450012a8-8cc2-4ef6-d0e7-c8920a0836e8",
        "colab": {
          "base_uri": "https://localhost:8080/",
          "height": 252
        }
      },
      "source": [
        "\n",
        "\n",
        "train.columns\n",
        "train.shape, test.shape\n",
        "train.head"
      ],
      "execution_count": 0,
      "outputs": [
        {
          "output_type": "execute_result",
          "data": {
            "text/plain": [
              "<bound method NDFrame.head of       Loan_ID  Gender Married  ... Credit_History Property_Area Loan_Status\n",
              "0    LP001002    Male      No  ...            1.0         Urban           Y\n",
              "1    LP001003    Male     Yes  ...            1.0         Rural           N\n",
              "2    LP001005    Male     Yes  ...            1.0         Urban           Y\n",
              "3    LP001006    Male     Yes  ...            1.0         Urban           Y\n",
              "4    LP001008    Male      No  ...            1.0         Urban           Y\n",
              "..        ...     ...     ...  ...            ...           ...         ...\n",
              "609  LP002978  Female      No  ...            1.0         Rural           Y\n",
              "610  LP002979    Male     Yes  ...            1.0         Rural           Y\n",
              "611  LP002983    Male     Yes  ...            1.0         Urban           Y\n",
              "612  LP002984    Male     Yes  ...            1.0         Urban           Y\n",
              "613  LP002990  Female      No  ...            0.0     Semiurban           N\n",
              "\n",
              "[614 rows x 13 columns]>"
            ]
          },
          "metadata": {
            "tags": []
          },
          "execution_count": 2
        }
      ]
    },
    {
      "cell_type": "markdown",
      "metadata": {
        "id": "X1ai25lYZHhW",
        "colab_type": "text"
      },
      "source": [
        "**Univariate analysis**. It is the simplest form of analyzing data where we examine each variable individually. For categorical features we can use frequency table or bar plots which will calculate the number of each category in a particular variable. For numerical features, probability density plots can be used to look at the distribution of the variable.\n",
        "\n",
        "Target Variable\n",
        "We will first look at the target variable, i.e., Loan_Status. As it is a categorical variable, let us look at its frequency table, percentage distribution and bar plot.\n",
        "\n",
        "Frequency table of a variable will give us the count of each category in that variable."
      ]
    },
    {
      "cell_type": "code",
      "metadata": {
        "id": "tG5b2ImyQDQT",
        "colab_type": "code",
        "outputId": "ed324104-9ac2-407e-cce3-db11e111f37f",
        "colab": {
          "base_uri": "https://localhost:8080/",
          "height": 381
        }
      },
      "source": [
        "\n",
        "# Univariate Analyis \n",
        "print(train['Loan_Status'].value_counts())  # Count number of Unique Values\n",
        "print(train['Loan_Status'].value_counts(normalize=True)) # Normalize can be set to True to print proportions instead of number \n",
        "train['Loan_Status'].value_counts().plot.bar()"
      ],
      "execution_count": 0,
      "outputs": [
        {
          "output_type": "stream",
          "text": [
            "Y    422\n",
            "N    192\n",
            "Name: Loan_Status, dtype: int64\n",
            "Y    0.687296\n",
            "N    0.312704\n",
            "Name: Loan_Status, dtype: float64\n"
          ],
          "name": "stdout"
        },
        {
          "output_type": "execute_result",
          "data": {
            "text/plain": [
              "<matplotlib.axes._subplots.AxesSubplot at 0x7f3c4f272400>"
            ]
          },
          "metadata": {
            "tags": []
          },
          "execution_count": 3
        },
        {
          "output_type": "display_data",
          "data": {
            "image/png": "[encoded data removed]",
            "text/plain": [
              "<Figure size 432x288 with 1 Axes>"
            ]
          },
          "metadata": {
            "tags": []
          }
        }
      ]
    },
    {
      "cell_type": "markdown",
      "metadata": {
        "id": "2Cc3fyTujDyZ",
        "colab_type": "text"
      },
      "source": [
        "The loan of 422(around 69%) people out of 614 was approved.\n",
        "\n",
        "Now lets visualize each variable separately. Different types of variables are Categorical, ordinal and numerical.\n",
        "\n",
        "\n",
        "*   Categorical features: These features have categories (Gender, Married, Self_Employed, Credit_History, Loan_Status)\n",
        "*   Ordinal features: Variables in categorical features having some order involved (Dependents, Education, Property_Area)\n",
        "*   Numerical features: These features have numerical values (ApplicantIncome, CoapplicantIncome, LoanAmount, Loan_Amount_Term)\n",
        "\n",
        "Let’s visualize the categorical and ordinal features first\n",
        "# Independent Variable (Categorical)"
      ]
    },
    {
      "cell_type": "code",
      "metadata": {
        "id": "P_9anq_HkhAT",
        "colab_type": "code",
        "outputId": "f207a22b-d83b-4517-cda4-940965bd9f37",
        "colab": {
          "base_uri": "https://localhost:8080/",
          "height": 615
        }
      },
      "source": [
        "\n",
        "\n",
        "# Subplot is used to create multiple plots simultaneously. \n",
        "# Here, subplot(221) refers that there will be a total of 2+2 = 4 plots (2 rows and 2 columns), 221 corresponds to the first plot.\n",
        "plt.figure(1) \n",
        "plt.subplot(221)\n",
        "train['Gender'].value_counts(normalize=True).plot.bar(figsize=(20,10), title= 'Gender') \n",
        " \n",
        "plt.subplot(222) \n",
        "train['Married'].value_counts(normalize=True).plot.bar(title= 'Married')\n",
        "\n",
        "plt.subplot(223) \n",
        "train['Self_Employed'].value_counts(normalize=True).plot.bar(title= 'Self_Employed') \n",
        "plt.subplot(224) \n",
        "train['Credit_History'].value_counts(normalize=True).plot.bar(title= 'Credit_History') \n",
        "\n",
        "plt.show()\n",
        "\n"
      ],
      "execution_count": 0,
      "outputs": [
        {
          "output_type": "display_data",
          "data": {
            "image/png": "[encoded data removed]",
            "text/plain": [
              "<Figure size 1440x720 with 4 Axes>"
            ]
          },
          "metadata": {
            "tags": []
          }
        }
      ]
    },
    {
      "cell_type": "markdown",
      "metadata": {
        "id": "fyIBMNh3qlq4",
        "colab_type": "text"
      },
      "source": [
        "**Inferences from above plots**\n",
        "*   80% applicants in the dataset are male.\n",
        "*   Around 65% of the applicants in the dataset are married.\n",
        "*   Around 15% applicants in the dataset are self employed.\n",
        "*   Around 85% applicants have repaid their debts.\n",
        "\n",
        "\n",
        "\n"
      ]
    },
    {
      "cell_type": "code",
      "metadata": {
        "id": "0ZyZv2Xgofal",
        "colab_type": "code",
        "outputId": "8d6f4b9b-8808-45f6-e28b-438f9d40d58e",
        "colab": {
          "base_uri": "https://localhost:8080/",
          "height": 447
        }
      },
      "source": [
        "\n",
        "# Independent Ordinal Variables \n",
        "plt.figure(1) \n",
        "plt.subplot(131) \n",
        "train['Dependents'].value_counts(normalize=True).plot.bar(figsize=(24,6), title= 'Dependents') \n",
        "plt.subplot(132) \n",
        "train['Education'].value_counts(normalize=True).plot.bar(title= 'Education') \n",
        "plt.subplot(133) \n",
        "train['Property_Area'].value_counts(normalize=True).plot.bar(title= 'Property_Area') \n",
        "plt.show()\n"
      ],
      "execution_count": 0,
      "outputs": [
        {
          "output_type": "display_data",
          "data": {
            "image/png": "[encoded data removed]",
            "text/plain": [
              "<Figure size 1728x432 with 3 Axes>"
            ]
          },
          "metadata": {
            "tags": []
          }
        }
      ]
    },
    {
      "cell_type": "markdown",
      "metadata": {
        "id": "Ta6XXYQOsJYC",
        "colab_type": "text"
      },
      "source": [
        "Following inferences can be made from the above bar plots:\n",
        "1.   Most of the applicants don’t have any dependents.\n",
        "2.   Around 80% of the applicants are Graduate.\n",
        "3.   Most of the applicants are from Semiurban area. \n",
        "\n",
        "# Independent Variable (Numerical)\n",
        "Till now we have seen the categorical and ordinal variables and now lets visualize the numerical variables. Lets look at the distribution of Applicant income first.\n",
        "\n",
        "\n",
        "\n"
      ]
    },
    {
      "cell_type": "code",
      "metadata": {
        "id": "4UXeoIFQ9cNT",
        "colab_type": "code",
        "outputId": "bdec8d81-dc1b-48c5-9e5e-ee63634f1200",
        "colab": {
          "base_uri": "https://localhost:8080/",
          "height": 334
        }
      },
      "source": [
        "plt.figure(1) \n",
        "plt.subplot(121) \n",
        "sns.distplot(train['ApplicantIncome']); \n",
        "plt.subplot(122) \n",
        "train['ApplicantIncome'].plot.box(figsize=(16,5)) \n",
        "plt.show()"
      ],
      "execution_count": 0,
      "outputs": [
        {
          "output_type": "display_data",
          "data": {
            "image/png": "[encoded data removed]",
            "text/plain": [
              "<Figure size 1152x360 with 2 Axes>"
            ]
          },
          "metadata": {
            "tags": []
          }
        }
      ]
    },
    {
      "cell_type": "markdown",
      "metadata": {
        "id": "VRFlDRb59tCt",
        "colab_type": "text"
      },
      "source": [
        "It can be inferred that most of the data in the distribution of applicant income is towards left which means it is not normally distributed. We will try to make it normal in later sections as algorithms works better if the data is normally distributed.\n",
        "\n",
        "The boxplot confirms the presence of a lot of outliers/extreme values. This can be attributed to the income disparity in the society. Part of this can be driven by the fact that we are looking at people with different education levels. Let us segregate them by Education:"
      ]
    },
    {
      "cell_type": "code",
      "metadata": {
        "id": "6VC3eQ8J9uk7",
        "colab_type": "code",
        "outputId": "8ae04273-3e26-41c7-b37e-ae9508245873",
        "colab": {
          "base_uri": "https://localhost:8080/",
          "height": 311
        }
      },
      "source": [
        "train.boxplot(column='ApplicantIncome', by = 'Education') \n",
        "plt.suptitle(\"\")\n"
      ],
      "execution_count": 0,
      "outputs": [
        {
          "output_type": "execute_result",
          "data": {
            "text/plain": [
              "Text(0.5, 0.98, '')"
            ]
          },
          "metadata": {
            "tags": []
          },
          "execution_count": 7
        },
        {
          "output_type": "display_data",
          "data": {
            "image/png": "[encoded data removed]",
            "text/plain": [
              "<Figure size 432x288 with 1 Axes>"
            ]
          },
          "metadata": {
            "tags": []
          }
        }
      ]
    },
    {
      "cell_type": "markdown",
      "metadata": {
        "id": "tzc7cWVe-EyM",
        "colab_type": "text"
      },
      "source": [
        "Above plot infers that there are a higher number of graduates with very high incomes, which are appearing to be the outliers.\n",
        "\n",
        "Let’s look at the Coapplicant income distribution below"
      ]
    },
    {
      "cell_type": "code",
      "metadata": {
        "id": "gbIdRfCO-Hlk",
        "colab_type": "code",
        "outputId": "e68e673a-b4db-478e-b297-ed11c5ac2a3a",
        "colab": {
          "base_uri": "https://localhost:8080/",
          "height": 334
        }
      },
      "source": [
        "plt.figure(1) \n",
        "plt.subplot(121) \n",
        "sns.distplot(train['CoapplicantIncome']); \n",
        "plt.subplot(122) \n",
        "train['CoapplicantIncome'].plot.box(figsize=(16,5)) \n",
        "plt.show()"
      ],
      "execution_count": 0,
      "outputs": [
        {
          "output_type": "display_data",
          "data": {
            "image/png": "[encoded data removed]",
            "text/plain": [
              "<Figure size 1152x360 with 2 Axes>"
            ]
          },
          "metadata": {
            "tags": []
          }
        }
      ]
    },
    {
      "cell_type": "markdown",
      "metadata": {
        "id": "6wCxo_nZ-emc",
        "colab_type": "text"
      },
      "source": [
        "We see a similar distribution as that of the applicant income. Majority of coapplicant’s income ranges from 0 to 5000. We also see a lot of outliers in the coapplicant income and it is not normally distributed.\n",
        "\n",
        "Let’s look at the distribution of LoanAmount variable."
      ]
    },
    {
      "cell_type": "code",
      "metadata": {
        "id": "Omh3dfAd-eF_",
        "colab_type": "code",
        "outputId": "3aeff6aa-d64f-4911-9bff-9c9090eef04b",
        "colab": {
          "base_uri": "https://localhost:8080/",
          "height": 334
        }
      },
      "source": [
        "plt.figure(1) \n",
        "plt.subplot(121) \n",
        "df=train.dropna() \n",
        "sns.distplot(train['LoanAmount']); \n",
        "plt.subplot(122) \n",
        "train['LoanAmount'].plot.box(figsize=(16,5)) \n",
        "plt.show()"
      ],
      "execution_count": 0,
      "outputs": [
        {
          "output_type": "display_data",
          "data": {
            "image/png": "[encoded data removed]",
            "text/plain": [
              "<Figure size 1152x360 with 2 Axes>"
            ]
          },
          "metadata": {
            "tags": []
          }
        }
      ]
    },
    {
      "cell_type": "markdown",
      "metadata": {
        "id": "Bf1cUH9v-r2m",
        "colab_type": "text"
      },
      "source": [
        "We see a lot of outliers in this variable and the distribution is fairly normal. We will treat the outliers in later sections.\n",
        "\n",
        "Now we would like to know how well each feature correlate with Loan Status. So, in the next section we will look at bivariate analysis."
      ]
    },
    {
      "cell_type": "markdown",
      "metadata": {
        "id": "igxIErjY-4M-",
        "colab_type": "text"
      },
      "source": [
        "# Bivariate Analysis\n",
        "\n",
        "---\n",
        "Lets recall some of the hypotheses that we generated earlier:\n",
        "\n",
        "*  Applicants with high income should have more chances of loan approval.\n",
        "*  Applicants who have repaid their previous debts should have higher chances of loan approval.\n",
        "*  Loan approval should also depend on the loan amount. If the loan amount is less, chances of loan approval should be high.\n",
        "*  Lesser the amount to be paid monthly to repay the loan, higher the chances of loan approval.\n",
        "\n",
        "Lets try to test the above mentioned hypotheses using bivariate analysis\n",
        "\n",
        "After looking at every variable individually in univariate analysis, we will now explore them again with respect to the target variable.\n",
        "\n",
        "**Categorical Independent Variable vs Target Variable**\n",
        "\n",
        "First of all we will find the relation between target variable and categorical independent variables. Let us look at the stacked bar plot now which will give us the proportion of approved and unapproved loans.\n"
      ]
    },
    {
      "cell_type": "code",
      "metadata": {
        "id": "bpv6-eZE_Kda",
        "colab_type": "code",
        "outputId": "ae4e77ec-5475-4620-f312-727326663a4b",
        "colab": {
          "base_uri": "https://localhost:8080/",
          "height": 323
        }
      },
      "source": [
        "Gender=pd.crosstab(train['Gender'],train['Loan_Status']) \n",
        "Gender.div(Gender.sum(1).astype(float), axis=0).plot(kind=\"bar\", stacked=True, figsize=(4,4))"
      ],
      "execution_count": 0,
      "outputs": [
        {
          "output_type": "execute_result",
          "data": {
            "text/plain": [
              "<matplotlib.axes._subplots.AxesSubplot at 0x7f3c4d816438>"
            ]
          },
          "metadata": {
            "tags": []
          },
          "execution_count": 10
        },
        {
          "output_type": "display_data",
          "data": {
            "image/png": "[encoded data removed]",
            "text/plain": [
              "<Figure size 288x288 with 1 Axes>"
            ]
          },
          "metadata": {
            "tags": []
          }
        }
      ]
    },
    {
      "cell_type": "markdown",
      "metadata": {
        "id": "X_r0WwyLRA76",
        "colab_type": "text"
      },
      "source": [
        "It can be inferred that the proportion of male and female applicants is more or less same for both approved and unapproved loans.\n",
        "Now let us visualize the remaining categorical variables vs target variable.\n"
      ]
    },
    {
      "cell_type": "code",
      "metadata": {
        "id": "6WLfQ3XBPiSI",
        "colab_type": "code",
        "outputId": "dc59a14d-950d-400e-bb6b-e5e584c7b3a6",
        "colab": {
          "base_uri": "https://localhost:8080/",
          "height": 1000
        }
      },
      "source": [
        "# Crosstab ref - https://pbpython.com/pandas-crosstab.html\n",
        "Married=pd.crosstab(train['Married'],train['Loan_Status']) \n",
        "Dependents=pd.crosstab(train['Dependents'],train['Loan_Status']) \n",
        "Education=pd.crosstab(train['Education'],train['Loan_Status']) \n",
        "Self_Employed=pd.crosstab(train['Self_Employed'],train['Loan_Status']) \n",
        "Married.div(Married.sum(1).astype(float), axis=0).plot(kind=\"bar\", stacked=True, figsize=(4,4)) \n",
        "plt.show() \n",
        "Dependents.div(Dependents.sum(1).astype(float), axis=0).plot(kind=\"bar\", stacked=True) \n",
        "plt.show() \n",
        "Education.div(Education.sum(1).astype(float), axis=0).plot(kind=\"bar\", stacked=True, figsize=(4,4)) \n",
        "plt.show() \n",
        "Self_Employed.div(Self_Employed.sum(1).astype(float), axis=0).plot(kind=\"bar\", stacked=True, figsize=(4,4)) \n",
        "plt.show()\n",
        "\n"
      ],
      "execution_count": 0,
      "outputs": [
        {
          "output_type": "display_data",
          "data": {
            "image/png": "[encoded data removed]",
            "text/plain": [
              "<Figure size 288x288 with 1 Axes>"
            ]
          },
          "metadata": {
            "tags": []
          }
        },
        {
          "output_type": "display_data",
          "data": {
            "image/png": "[encoded data removed]",
            "text/plain": [
              "<Figure size 432x288 with 1 Axes>"
            ]
          },
          "metadata": {
            "tags": []
          }
        },
        {
          "output_type": "display_data",
          "data": {
            "image/png": "[encoded data removed]",
            "text/plain": [
              "<Figure size 288x288 with 1 Axes>"
            ]
          },
          "metadata": {
            "tags": []
          }
        },
        {
          "output_type": "display_data",
          "data": {
            "image/png": "[encoded data removed]",
            "text/plain": [
              "<Figure size 288x288 with 1 Axes>"
            ]
          },
          "metadata": {
            "tags": []
          }
        }
      ]
    },
    {
      "cell_type": "markdown",
      "metadata": {
        "id": "BlEpjvrwRlv_",
        "colab_type": "text"
      },
      "source": [
        "*  Proportion of married applicants is higher for the approved loans.\n",
        "*  Distribution of applicants with 1 or 3+ dependents is similar across both the categories of Loan_Status.\n",
        "*  There is nothing significant we can infer from Self_Employed vs Loan_Status plot.\n",
        "\n",
        "Now we will look at the relationship between remaining categorical independent variables and Loan_Status."
      ]
    },
    {
      "cell_type": "code",
      "metadata": {
        "id": "abygNzGNT3ig",
        "colab_type": "code",
        "outputId": "c236d521-7ea2-436d-8919-eacb7824f76b",
        "colab": {
          "base_uri": "https://localhost:8080/",
          "height": 593
        }
      },
      "source": [
        "Credit_History=pd.crosstab(train['Credit_History'],train['Loan_Status']) \n",
        "Property_Area=pd.crosstab(train['Property_Area'],train['Loan_Status']) \n",
        "Credit_History.div(Credit_History.sum(1).astype(float), axis=0).plot(kind=\"bar\", stacked=True, figsize=(4,4)) \n",
        "plt.show() \n",
        "Property_Area.div(Property_Area.sum(1).astype(float), axis=0).plot(kind=\"bar\", stacked=True) \n",
        "plt.show()"
      ],
      "execution_count": 0,
      "outputs": [
        {
          "output_type": "display_data",
          "data": {
            "image/png": "[encoded data removed]",
            "text/plain": [
              "<Figure size 288x288 with 1 Axes>"
            ]
          },
          "metadata": {
            "tags": []
          }
        },
        {
          "output_type": "display_data",
          "data": {
            "image/png": "[encoded data removed]",
            "text/plain": [
              "<Figure size 432x288 with 1 Axes>"
            ]
          },
          "metadata": {
            "tags": []
          }
        }
      ]
    },
    {
      "cell_type": "markdown",
      "metadata": {
        "id": "pG9GEm3WUMXP",
        "colab_type": "text"
      },
      "source": [
        "*  It seems people with credit history as 1 are more likely to get their loans approved.\n",
        "*  Proportion of loans getting approved in semiurban area is higher as compared to that in rural or urban areas.\n",
        "\n",
        "Now let’s visualize numerical independent variables with respect to target variable.\n",
        "\n",
        "# Numerical Independent Variable vs Target Variable\n",
        "We will try to find the mean income of people for which the loan has been approved vs the mean income of people for which the loan has not been approved."
      ]
    },
    {
      "cell_type": "code",
      "metadata": {
        "id": "nDFqwLM_ULzu",
        "colab_type": "code",
        "outputId": "7416f78c-f8ea-4eb3-de86-ec37c97d3107",
        "colab": {
          "base_uri": "https://localhost:8080/",
          "height": 295
        }
      },
      "source": [
        "train.groupby('Loan_Status')['ApplicantIncome'].mean().plot.bar()"
      ],
      "execution_count": 0,
      "outputs": [
        {
          "output_type": "execute_result",
          "data": {
            "text/plain": [
              "<matplotlib.axes._subplots.AxesSubplot at 0x7f3c4d67a908>"
            ]
          },
          "metadata": {
            "tags": []
          },
          "execution_count": 13
        },
        {
          "output_type": "display_data",
          "data": {
            "image/png": "[encoded data removed]",
            "text/plain": [
              "<Figure size 432x288 with 1 Axes>"
            ]
          },
          "metadata": {
            "tags": []
          }
        }
      ]
    },
    {
      "cell_type": "markdown",
      "metadata": {
        "id": "nl-81Q3hUjAh",
        "colab_type": "text"
      },
      "source": [
        "Here the y-axis represents the mean applicant income. We don’t see any change in the mean income. So, let’s make bins for the applicant income variable based on the values in it and analyze the corresponding loan status for each bin."
      ]
    },
    {
      "cell_type": "code",
      "metadata": {
        "id": "aOM0_DjuUiwY",
        "colab_type": "code",
        "outputId": "17bb18e3-b0e0-470e-b135-11503044864a",
        "colab": {
          "base_uri": "https://localhost:8080/",
          "height": 317
        }
      },
      "source": [
        "bins=[0,2500,4000,6000,81000] \n",
        "group=['Low','Average','High', 'Very high'] \n",
        "train['Income_bin']=pd.cut(train['ApplicantIncome'],bins,labels=group)\n",
        "Income_bin=pd.crosstab(train['Income_bin'],train['Loan_Status']) \n",
        "Income_bin.div(Income_bin.sum(1).astype(float), axis=0).plot(kind=\"bar\", stacked=True) \n",
        "plt.xlabel('ApplicantIncome') \n",
        "P = plt.ylabel('Percentage')"
      ],
      "execution_count": 0,
      "outputs": [
        {
          "output_type": "display_data",
          "data": {
            "image/png": "[encoded data removed]",
            "text/plain": [
              "<Figure size 432x288 with 1 Axes>"
            ]
          },
          "metadata": {
            "tags": []
          }
        }
      ]
    },
    {
      "cell_type": "markdown",
      "metadata": {
        "id": "lJSZi6M3U39O",
        "colab_type": "text"
      },
      "source": [
        "It can be inferred that Applicant income does not affect the chances of loan approval which contradicts our hypothesis in which we assumed that if the applicant income is high the chances of loan approval will also be high.\n",
        "\n",
        "We will analyze the coapplicant income and loan amount variable in similar manner."
      ]
    },
    {
      "cell_type": "code",
      "metadata": {
        "id": "6peNRTDTU66H",
        "colab_type": "code",
        "outputId": "3dc4779f-293d-46a5-ca3b-f8e7c98167b6",
        "colab": {
          "base_uri": "https://localhost:8080/",
          "height": 311
        }
      },
      "source": [
        "bins=[0,1000,3000,42000] \n",
        "group=['Low','Average','High'] \n",
        "train['Coapplicant_Income_bin']=pd.cut(train['CoapplicantIncome'],bins,labels=group)\n",
        "Coapplicant_Income_bin=pd.crosstab(train['Coapplicant_Income_bin'],train['Loan_Status']) \n",
        "Coapplicant_Income_bin.div(Coapplicant_Income_bin.sum(1).astype(float), axis=0).plot(kind=\"bar\", stacked=True) \n",
        "plt.xlabel('CoapplicantIncome') \n",
        "P = plt.ylabel('Percentage')"
      ],
      "execution_count": 0,
      "outputs": [
        {
          "output_type": "display_data",
          "data": {
            "image/png": "[encoded data removed]",
            "text/plain": [
              "<Figure size 432x288 with 1 Axes>"
            ]
          },
          "metadata": {
            "tags": []
          }
        }
      ]
    },
    {
      "cell_type": "markdown",
      "metadata": {
        "id": "dtUdNEZ-VHJg",
        "colab_type": "text"
      },
      "source": [
        "It shows that if coapplicant’s income is less the chances of loan approval are high. But this does not look right. The possible reason behind this may be that most of the applicants don’t have any coapplicant so the coapplicant income for such applicants is 0 and hence the loan approval is not dependent on it. So we can make a new variable in which we will combine the applicant’s and coapplicant’s income to visualize the combined effect of income on loan approval.\n",
        "\n",
        "Let us combine the Applicant Income and Coapplicant Income and see the combined effect of Total Income on the Loan_Status."
      ]
    },
    {
      "cell_type": "code",
      "metadata": {
        "id": "20v4nUnpVJu5",
        "colab_type": "code",
        "outputId": "d9cd0cd9-7284-49f6-dcc4-4b3cdeb2db67",
        "colab": {
          "base_uri": "https://localhost:8080/",
          "height": 318
        }
      },
      "source": [
        "train['Total_Income']=train['ApplicantIncome']+train['CoapplicantIncome']\n",
        "bins=[0,2500,4000,6000,81000] \n",
        "group=['Low','Average','High', 'Very high'] \n",
        "train['Total_Income_bin']=pd.cut(train['Total_Income'],bins,labels=group)\n",
        "Total_Income_bin=pd.crosstab(train['Total_Income_bin'],train['Loan_Status']) \n",
        "Total_Income_bin.div(Total_Income_bin.sum(1).astype(float), axis=0).plot(kind=\"bar\", stacked=True) \n",
        "plt.xlabel('Total_Income') \n",
        "P = plt.ylabel('Percentage')"
      ],
      "execution_count": 0,
      "outputs": [
        {
          "output_type": "display_data",
          "data": {
            "image/png": "[encoded data removed]",
            "text/plain": [
              "<Figure size 432x288 with 1 Axes>"
            ]
          },
          "metadata": {
            "tags": []
          }
        }
      ]
    },
    {
      "cell_type": "markdown",
      "metadata": {
        "id": "kGaDyZF2VVlB",
        "colab_type": "text"
      },
      "source": [
        "We can see that Proportion of loans getting approved for applicants having low Total_Income is very less as compared to that of applicants with Average, High and Very High Income.\n",
        "\n",
        "Let’s visualize the Loan amount variable."
      ]
    },
    {
      "cell_type": "code",
      "metadata": {
        "id": "5eosJFFPVWyB",
        "colab_type": "code",
        "outputId": "b24187c5-dcc0-442d-f52b-e4d757b8c57d",
        "colab": {
          "base_uri": "https://localhost:8080/",
          "height": 311
        }
      },
      "source": [
        "bins=[0,100,200,700] \n",
        "group=['Low','Average','High'] \n",
        "train['LoanAmount_bin']=pd.cut(train['LoanAmount'],bins,labels=group)\n",
        "LoanAmount_bin=pd.crosstab(train['LoanAmount_bin'],train['Loan_Status']) \n",
        "LoanAmount_bin.div(LoanAmount_bin.sum(1).astype(float), axis=0).plot(kind=\"bar\", stacked=True) \n",
        "plt.xlabel('LoanAmount') \n",
        "P = plt.ylabel('Percentage')"
      ],
      "execution_count": 0,
      "outputs": [
        {
          "output_type": "display_data",
          "data": {
            "image/png": "[encoded data removed]",
            "text/plain": [
              "<Figure size 432x288 with 1 Axes>"
            ]
          },
          "metadata": {
            "tags": []
          }
        }
      ]
    },
    {
      "cell_type": "markdown",
      "metadata": {
        "id": "Diu2RMJEVfRB",
        "colab_type": "text"
      },
      "source": [
        "It can be seen that the proportion of approved loans is higher for Low and Average Loan Amount as compared to that of High Loan Amount which supports our hypothesis in which we considered that the chances of loan approval will be high when the loan amount is less.\n",
        "\n",
        "Let’s drop the bins which we created for the exploration part. We will change the 3+ in dependents variable to 3 to make it a numerical variable.We will also convert the target variable’s categories into 0 and 1 so that we can find its correlation with numerical variables. One more reason to do so is few models like logistic regression takes only numeric values as input. We will replace N with 0 and Y with 1."
      ]
    },
    {
      "cell_type": "code",
      "metadata": {
        "id": "GtrodEk4VgoD",
        "colab_type": "code",
        "colab": {}
      },
      "source": [
        "#train = train.drop(['Income_bin', 'Coapplicant_Income_bin', 'LoanAmount_bin', 'Total_Income_bin', 'Total_Income'], axis=1)\n",
        "train['Dependents'].replace('3+', 3,inplace=True) \n",
        "test['Dependents'].replace('3+', 3,inplace=True) \n",
        "train['Loan_Status'].replace('N', 0,inplace=True) \n",
        "train['Loan_Status'].replace('Y', 1,inplace=True)"
      ],
      "execution_count": 0,
      "outputs": []
    },
    {
      "cell_type": "markdown",
      "metadata": {
        "id": "9mhtnHPOXHxm",
        "colab_type": "text"
      },
      "source": [
        "Now lets look at the correlation between all the numerical variables. We will use the heat map to visualize the correlation. Heatmaps visualize data through variations in coloring. The variables with darker color means their correlation is more."
      ]
    },
    {
      "cell_type": "code",
      "metadata": {
        "id": "g7mag9yyV5ID",
        "colab_type": "code",
        "outputId": "27745607-2b2f-4bdb-cae6-ac19dfc21f00",
        "colab": {
          "base_uri": "https://localhost:8080/",
          "height": 467
        }
      },
      "source": [
        "matrix = train.corr()  \n",
        "vmax = plt.subplots(figsize=(9, 6)) \n",
        "sns.heatmap(matrix, vmax=.8, square=True, cmap=\"BuPu\");"
      ],
      "execution_count": 0,
      "outputs": [
        {
          "output_type": "display_data",
          "data": {
            "image/png": "[encoded data removed]",
            "text/plain": [
              "<Figure size 648x432 with 2 Axes>"
            ]
          },
          "metadata": {
            "tags": []
          }
        }
      ]
    },
    {
      "cell_type": "markdown",
      "metadata": {
        "id": "lN88gMsZXNms",
        "colab_type": "text"
      },
      "source": [
        "We see that the most correlated variables are (ApplicantIncome - LoanAmount) and (Credit_History - Loan_Status). LoanAmount is also correlated with CoapplicantIncome."
      ]
    },
    {
      "cell_type": "markdown",
      "metadata": {
        "id": "6hs-9XtsNbvt",
        "colab_type": "text"
      },
      "source": [
        "# Missing Value and Outlier Treatment\n",
        "\n",
        "---\n",
        "After exploring all the variables in our data, we can now impute the missing values and treat the outliers because missing data and outliers can have adverse effect on the model performance.\n",
        "\n",
        "**Missing value imputation**\n",
        "Let’s list out feature-wise count of missing values.\n",
        "\n",
        "\n",
        "\n"
      ]
    },
    {
      "cell_type": "code",
      "metadata": {
        "id": "1flTwQNCNsBu",
        "colab_type": "code",
        "outputId": "0f354875-be14-4147-91f1-fb359ba92bcc",
        "colab": {
          "base_uri": "https://localhost:8080/",
          "height": 336
        }
      },
      "source": [
        "train.isnull().sum()"
      ],
      "execution_count": 0,
      "outputs": [
        {
          "output_type": "execute_result",
          "data": {
            "text/plain": [
              "Loan_ID                     0\n",
              "Gender                     13\n",
              "Married                     3\n",
              "Dependents                 15\n",
              "Education                   0\n",
              "Self_Employed              32\n",
              "ApplicantIncome             0\n",
              "CoapplicantIncome           0\n",
              "LoanAmount                 22\n",
              "Loan_Amount_Term           14\n",
              "Credit_History             50\n",
              "Property_Area               0\n",
              "Loan_Status                 0\n",
              "Income_bin                  0\n",
              "Coapplicant_Income_bin    273\n",
              "Total_Income                0\n",
              "Total_Income_bin            0\n",
              "LoanAmount_bin             22\n",
              "dtype: int64"
            ]
          },
          "metadata": {
            "tags": []
          },
          "execution_count": 20
        }
      ]
    },
    {
      "cell_type": "markdown",
      "metadata": {
        "id": "yRh2DbwxN4CZ",
        "colab_type": "text"
      },
      "source": [
        "There are missing values in Gender, Married, Dependents, Self_Employed, LoanAmount, Loan_Amount_Term and Credit_History features.\n",
        "\n",
        "We will treat the missing values in all the features one by one.\n",
        "\n",
        "We can consider these methods to fill the missing values:\n",
        "\n",
        "*  For numerical variables: imputation using mean or median\n",
        "*  For categorical variables: imputation using mode\n",
        "\n",
        "There are very less missing values in Gender, Married, Dependents, Credit_History and Self_Employed features so we can fill them using the mode of the features."
      ]
    },
    {
      "cell_type": "code",
      "metadata": {
        "id": "ZRhW6HVdOpUU",
        "colab_type": "code",
        "colab": {}
      },
      "source": [
        "train['Gender'].fillna(train['Gender'].mode()[0], inplace=True) \n",
        "train['Married'].fillna(train['Married'].mode()[0], inplace=True) \n",
        "train['Dependents'].fillna(train['Dependents'].mode()[0], inplace=True) \n",
        "train['Self_Employed'].fillna(train['Self_Employed'].mode()[0], inplace=True) \n",
        "train['Credit_History'].fillna(train['Credit_History'].mode()[0], inplace=True)"
      ],
      "execution_count": 0,
      "outputs": []
    },
    {
      "cell_type": "markdown",
      "metadata": {
        "id": "BIGamALlO4QM",
        "colab_type": "text"
      },
      "source": [
        "Now let’s try to find a way to fill the missing values in Loan_Amount_Term. We will look at the value count of the Loan amount term variable."
      ]
    },
    {
      "cell_type": "code",
      "metadata": {
        "id": "f1GavYGOO91R",
        "colab_type": "code",
        "outputId": "023cbe04-357f-4237-db5f-de1e83593f98",
        "colab": {
          "base_uri": "https://localhost:8080/",
          "height": 202
        }
      },
      "source": [
        "train['Loan_Amount_Term'].value_counts()"
      ],
      "execution_count": 0,
      "outputs": [
        {
          "output_type": "execute_result",
          "data": {
            "text/plain": [
              "360.0    512\n",
              "180.0     44\n",
              "480.0     15\n",
              "300.0     13\n",
              "84.0       4\n",
              "240.0      4\n",
              "120.0      3\n",
              "36.0       2\n",
              "60.0       2\n",
              "12.0       1\n",
              "Name: Loan_Amount_Term, dtype: int64"
            ]
          },
          "metadata": {
            "tags": []
          },
          "execution_count": 22
        }
      ]
    },
    {
      "cell_type": "markdown",
      "metadata": {
        "id": "KFRY9wIpO7nE",
        "colab_type": "text"
      },
      "source": [
        "It can be seen that in loan amount term variable, the value of 360 is repeating the most. So we will replace the missing values in this variable using the mode of this variable."
      ]
    },
    {
      "cell_type": "code",
      "metadata": {
        "id": "evbCgR_VPHct",
        "colab_type": "code",
        "colab": {}
      },
      "source": [
        "train['Loan_Amount_Term'].fillna(train['Loan_Amount_Term'].mode()[0], inplace=True)"
      ],
      "execution_count": 0,
      "outputs": []
    },
    {
      "cell_type": "markdown",
      "metadata": {
        "id": "Q2YnnchXPRlz",
        "colab_type": "text"
      },
      "source": [
        "Now we will see the LoanAmount variable. As it is a numerical variable, we can use mean or median to impute the missing values. We will use median to fill the null values as earlier we saw that loan amount have outliers so the mean will not be the proper approach as it is highly affected by the presence of outliers."
      ]
    },
    {
      "cell_type": "code",
      "metadata": {
        "id": "Ve8RhP4EPPuy",
        "colab_type": "code",
        "colab": {}
      },
      "source": [
        "train['LoanAmount'].fillna(train['LoanAmount'].median(), inplace=True)"
      ],
      "execution_count": 0,
      "outputs": []
    },
    {
      "cell_type": "markdown",
      "metadata": {
        "id": "u1hkD-GZPQFV",
        "colab_type": "text"
      },
      "source": [
        "Now lets check whether all the missing values are filled in the dataset."
      ]
    },
    {
      "cell_type": "code",
      "metadata": {
        "id": "KSkMs-UEPbY5",
        "colab_type": "code",
        "outputId": "55ce6e33-01d5-4cca-fab3-e4603c0aed07",
        "colab": {
          "base_uri": "https://localhost:8080/",
          "height": 336
        }
      },
      "source": [
        "train.isnull().sum()"
      ],
      "execution_count": 0,
      "outputs": [
        {
          "output_type": "execute_result",
          "data": {
            "text/plain": [
              "Loan_ID                     0\n",
              "Gender                      0\n",
              "Married                     0\n",
              "Dependents                  0\n",
              "Education                   0\n",
              "Self_Employed               0\n",
              "ApplicantIncome             0\n",
              "CoapplicantIncome           0\n",
              "LoanAmount                  0\n",
              "Loan_Amount_Term            0\n",
              "Credit_History              0\n",
              "Property_Area               0\n",
              "Loan_Status                 0\n",
              "Income_bin                  0\n",
              "Coapplicant_Income_bin    273\n",
              "Total_Income                0\n",
              "Total_Income_bin            0\n",
              "LoanAmount_bin             22\n",
              "dtype: int64"
            ]
          },
          "metadata": {
            "tags": []
          },
          "execution_count": 25
        }
      ]
    },
    {
      "cell_type": "markdown",
      "metadata": {
        "id": "yAGTY7l_Pi9S",
        "colab_type": "text"
      },
      "source": [
        "As we can see that all the missing values have been filled in the test dataset. Let’s fill all the missing values in the test dataset too with the same approach."
      ]
    },
    {
      "cell_type": "code",
      "metadata": {
        "id": "RcjVDLM3PkMh",
        "colab_type": "code",
        "colab": {}
      },
      "source": [
        "test['Gender'].fillna(train['Gender'].mode()[0], inplace=True) \n",
        "test['Dependents'].fillna(train['Dependents'].mode()[0], inplace=True) \n",
        "test['Self_Employed'].fillna(train['Self_Employed'].mode()[0], inplace=True) \n",
        "test['Credit_History'].fillna(train['Credit_History'].mode()[0], inplace=True) \n",
        "test['Loan_Amount_Term'].fillna(train['Loan_Amount_Term'].mode()[0], inplace=True) \n",
        "test['LoanAmount'].fillna(train['LoanAmount'].median(), inplace=True)"
      ],
      "execution_count": 0,
      "outputs": []
    },
    {
      "cell_type": "markdown",
      "metadata": {
        "id": "kluKpEfDP04g",
        "colab_type": "text"
      },
      "source": [
        "**Outlier Treatment**\n",
        "As we saw earlier in univariate analysis, LoanAmount contains outliers so we have to treat them as the presence of outliers affects the distribution of the data. Let's examine what can happen to a data set with outliers. For the sample data set:\n",
        "\n",
        "1, 1, 2, 2, 2, 2, 3, 3, 3, 4, 4\n",
        "\n",
        "We find the following: mean, median, mode, and standard deviation\n",
        "\n",
        "Mean = 2.58\n",
        "\n",
        "Median = 2.5\n",
        "\n",
        "Mode = 2\n",
        "\n",
        "Standard Deviation = 1.08\n",
        "\n",
        "If we add an outlier to the data set:\n",
        "\n",
        "1, 1, 2, 2, 2, 2, 3, 3, 3, 4, 4, 400\n",
        "\n",
        "The new values of our statistics are:\n",
        "\n",
        "Mean = 35.38\n",
        "\n",
        "Median = 2.5\n",
        "\n",
        "Mode = 2\n",
        "\n",
        "Standard Deviation = 114.74\n",
        "\n",
        "It can be seen that having outliers often has a significant effect on the mean and standard deviation and hence affecting the distribution. We must take steps to remove outliers from our data sets.\n",
        "\n",
        "Due to these outliers bulk of the data in the loan amount is at the left and the right tail is longer. This is called right skewness. One way to remove the skewness is by doing the log transformation. As we take the log transformation, it does not affect the smaller values much, but reduces the larger values. So, we get a distribution similar to normal distribution.\n",
        "\n",
        "Let’s visualize the effect of log transformation. We will do the similar changes to the test file simultaneously."
      ]
    },
    {
      "cell_type": "code",
      "metadata": {
        "id": "vx-047g6P_23",
        "colab_type": "code",
        "outputId": "665d56e5-9a5b-448b-fa46-a9f40be8373f",
        "colab": {
          "base_uri": "https://localhost:8080/",
          "height": 265
        }
      },
      "source": [
        "train['LoanAmount_log'] = np.log(train['LoanAmount']) \n",
        "train['LoanAmount_log'].hist(bins=20) \n",
        "test['LoanAmount_log'] = np.log(test['LoanAmount'])"
      ],
      "execution_count": 0,
      "outputs": [
        {
          "output_type": "display_data",
          "data": {
            "image/png": "[encoded data removed]",
            "text/plain": [
              "<Figure size 432x288 with 1 Axes>"
            ]
          },
          "metadata": {
            "tags": []
          }
        }
      ]
    },
    {
      "cell_type": "markdown",
      "metadata": {
        "id": "pV4xsfGpQPaW",
        "colab_type": "text"
      },
      "source": [
        "Now the distribution looks much closer to normal and effect of extreme values has been significantly subsided. Let’s build a logistic regression model and make predictions for the test dataset."
      ]
    },
    {
      "cell_type": "markdown",
      "metadata": {
        "id": "BQO4KCEJSrBM",
        "colab_type": "text"
      },
      "source": [
        "# Model Building : Part I\n",
        "Let us make our first model to predict the target variable. We will start with Logistic Regression which is used for predicting binary outcome.\n",
        "\n",
        "*  Logistic Regression is a classification algorithm. It is used to predict a binary outcome (1 / 0, Yes / No, True / False) given a set of independent variables.\n",
        "*  Logistic regression is an estimation of Logit function. Logit function is simply a log of odds in favor of the event.\n",
        "*  This function creates a s-shaped curve with the probability estimate, which is very similar to the required step wise function\n",
        "\n",
        "Lets drop the Loan_ID variable as it do not have any effect on the loan status. We will do the same changes to the test dataset which we did for the training dataset."
      ]
    },
    {
      "cell_type": "code",
      "metadata": {
        "id": "AcwdQsZES-iP",
        "colab_type": "code",
        "colab": {}
      },
      "source": [
        "train=train.drop('Loan_ID', axis=1) \n",
        "test=test.drop('Loan_ID', axis=1)\n",
        "\n",
        "# Sklearn requires the target variable in a separate dataset\n",
        "X = train.drop(\"Loan_Status\", 1)\n",
        "y = train.Loan_Status"
      ],
      "execution_count": 0,
      "outputs": []
    },
    {
      "cell_type": "markdown",
      "metadata": {
        "id": "ELdyu23S_VBW",
        "colab_type": "text"
      },
      "source": [
        "Now we will make dummy variables for the categorical variables. Dummy variable turns categorical variables\n",
        "into a series of 0 and 1, making them lot easier to quantify and compare. Let us understand the process of\n",
        "dummies first:\n",
        "*  Consider the “Gender” variable. It has two classes, Male and Female.\n",
        "As logistic regression takes only the numerical values as input, we have to change male and female into\n",
        "numerical value.\n",
        "*  Once we apply dummies to this variable, it will convert the “Gender” variable into two\n",
        "variables(Gender_Male and Gender_Female), one for each class, i.e. Male and Female.\n",
        "*  Gender_Male will have a value of 0 if the gender is Female and a value of 1 if the gender is Male"
      ]
    },
    {
      "cell_type": "code",
      "metadata": {
        "id": "xmeH7CTI_Rye",
        "colab_type": "code",
        "colab": {}
      },
      "source": [
        "X=pd.get_dummies(X)\n",
        "train=pd.get_dummies(train)\n",
        "test=pd.get_dummies(test)"
      ],
      "execution_count": 0,
      "outputs": []
    },
    {
      "cell_type": "markdown",
      "metadata": {
        "id": "HzKTtVaW_irv",
        "colab_type": "text"
      },
      "source": [
        "Now we will train the model on training dataset and make predictions for the test dataset. But can we validate\n",
        "these predictions? One way of doing this is we can divide our train dataset into two parts: train and validation.\n",
        "We can train the model on this train part and using that make predictions for the validation part. In this way we\n",
        "can validate our predictions as we have the true predictions for the validation part (which we do not have for the\n",
        "test dataset).\n",
        "\n",
        "\n",
        "We will use the train_test_split function from sklearn to divide our train dataset. So, first let us import\n",
        "train_test_split."
      ]
    },
    {
      "cell_type": "code",
      "metadata": {
        "id": "6Nybj6BR_oBC",
        "colab_type": "code",
        "colab": {}
      },
      "source": [
        "from sklearn.model_selection import train_test_split\n",
        "x_train, x_cv, y_train, y_cv = train_test_split(X,y, test_size =0.3)"
      ],
      "execution_count": 0,
      "outputs": []
    },
    {
      "cell_type": "markdown",
      "metadata": {
        "id": "BRpaWAL3_qxu",
        "colab_type": "text"
      },
      "source": [
        "The dataset has been divided into training and validation part. Let us import LogisticRegression and\n",
        "accuracy_score from sklearn and fit the logistic regression model."
      ]
    },
    {
      "cell_type": "code",
      "metadata": {
        "id": "IwnG95Bm_uGt",
        "colab_type": "code",
        "outputId": "a1497f8d-cc99-46c5-ca26-07cad489cefc",
        "colab": {
          "base_uri": "https://localhost:8080/",
          "height": 218
        }
      },
      "source": [
        "from sklearn.linear_model import LogisticRegression\n",
        "from sklearn.metrics import accuracy_score\n",
        "model = LogisticRegression()\n",
        "model.fit(x_train, y_train)\n",
        "LogisticRegression(C=1.0, class_weight=None, dual=False, fit_intercept=True, intercept_scaling=1, max_iter=1000, multi_class='ovr', n_jobs=1, penalty='l2', random_state=1, solver='liblinear', tol=0.0001, verbose=0, warm_start=False)"
      ],
      "execution_count": 0,
      "outputs": [
        {
          "output_type": "stream",
          "text": [
            "/usr/local/lib/python3.6/dist-packages/sklearn/linear_model/_logistic.py:940: ConvergenceWarning: lbfgs failed to converge (status=1):\n",
            "STOP: TOTAL NO. of ITERATIONS REACHED LIMIT.\n",
            "\n",
            "Increase the number of iterations (max_iter) or scale the data as shown in:\n",
            "    https://scikit-learn.org/stable/modules/preprocessing.html\n",
            "Please also refer to the documentation for alternative solver options:\n",
            "    https://scikit-learn.org/stable/modules/linear_model.html#logistic-regression\n",
            "  extra_warning_msg=_LOGISTIC_SOLVER_CONVERGENCE_MSG)\n"
          ],
          "name": "stderr"
        },
        {
          "output_type": "execute_result",
          "data": {
            "text/plain": [
              "LogisticRegression(C=1.0, class_weight=None, dual=False, fit_intercept=True,\n",
              "                   intercept_scaling=1, l1_ratio=None, max_iter=1000,\n",
              "                   multi_class='ovr', n_jobs=1, penalty='l2', random_state=1,\n",
              "                   solver='liblinear', tol=0.0001, verbose=0, warm_start=False)"
            ]
          },
          "metadata": {
            "tags": []
          },
          "execution_count": 34
        }
      ]
    },
    {
      "cell_type": "markdown",
      "metadata": {
        "id": "2Gf0F9sq_x0E",
        "colab_type": "text"
      },
      "source": [
        "Here the C parameter represents inverse of regularization strength. Regularization is applying a penalty to\n",
        "increasing the magnitude of parameter values in order to reduce overfitting. Smaller values of C specify stronger\n",
        "regularization. To learn about other parameters, \n",
        "\n",
        "refer here: \n",
        "http://scikitlearn.org/stable/modules/generated/sklearn.linear_model.LogisticRegression.html\n",
        "\n",
        "\n",
        "Let’s predict the Loan_Status for validation set and calculate its accuracy."
      ]
    },
    {
      "cell_type": "code",
      "metadata": {
        "id": "0AzEVcBH_1Re",
        "colab_type": "code",
        "outputId": "1567eb80-8d61-454b-e07f-01487992a292",
        "colab": {
          "base_uri": "https://localhost:8080/",
          "height": 337
        }
      },
      "source": [
        "# Let’s predict the Loan_Status for validation set and calculate its accuracy\n",
        "pred_cv = model.predict(x_cv)\n",
        "#Let us calculate how accurate our predictions are by calculating the accuracy.\n",
        "accuracy_score(y_cv,pred_cv)\n",
        "#0.7945945945945946\n",
        "#So our predictions are almost 80% accurate, i.e. we have identified 80% of the loan status correctly.\n",
        "#Let’s make predictions for the test dataset.\n",
        "pred_test = model.predict(test)"
      ],
      "execution_count": 0,
      "outputs": [
        {
          "output_type": "error",
          "ename": "ValueError",
          "evalue": "ignored",
          "traceback": [
            "\u001b[0;31m---------------------------------------------------------------------------\u001b[0m",
            "\u001b[0;31mValueError\u001b[0m                                Traceback (most recent call last)",
            "\u001b[0;32m<ipython-input-32-f02c300fd55e>\u001b[0m in \u001b[0;36m<module>\u001b[0;34m()\u001b[0m\n\u001b[1;32m      5\u001b[0m \u001b[0;31m#So our predictions are almost 80% accurate, i.e. we have identified 80% of the loan status correctly.\u001b[0m\u001b[0;34m\u001b[0m\u001b[0;34m\u001b[0m\u001b[0;34m\u001b[0m\u001b[0m\n\u001b[1;32m      6\u001b[0m \u001b[0;31m#Let’s make predictions for the test dataset.\u001b[0m\u001b[0;34m\u001b[0m\u001b[0;34m\u001b[0m\u001b[0;34m\u001b[0m\u001b[0m\n\u001b[0;32m----> 7\u001b[0;31m \u001b[0mpred_test\u001b[0m \u001b[0;34m=\u001b[0m \u001b[0mmodel\u001b[0m\u001b[0;34m.\u001b[0m\u001b[0mpredict\u001b[0m\u001b[0;34m(\u001b[0m\u001b[0mtest\u001b[0m\u001b[0;34m)\u001b[0m\u001b[0;34m\u001b[0m\u001b[0;34m\u001b[0m\u001b[0m\n\u001b[0m",
            "\u001b[0;32m/usr/local/lib/python3.6/dist-packages/sklearn/linear_model/_base.py\u001b[0m in \u001b[0;36mpredict\u001b[0;34m(self, X)\u001b[0m\n\u001b[1;32m    291\u001b[0m             \u001b[0mPredicted\u001b[0m \u001b[0;32mclass\u001b[0m \u001b[0mlabel\u001b[0m \u001b[0mper\u001b[0m \u001b[0msample\u001b[0m\u001b[0;34m.\u001b[0m\u001b[0;34m\u001b[0m\u001b[0;34m\u001b[0m\u001b[0m\n\u001b[1;32m    292\u001b[0m         \"\"\"\n\u001b[0;32m--> 293\u001b[0;31m         \u001b[0mscores\u001b[0m \u001b[0;34m=\u001b[0m \u001b[0mself\u001b[0m\u001b[0;34m.\u001b[0m\u001b[0mdecision_function\u001b[0m\u001b[0;34m(\u001b[0m\u001b[0mX\u001b[0m\u001b[0;34m)\u001b[0m\u001b[0;34m\u001b[0m\u001b[0;34m\u001b[0m\u001b[0m\n\u001b[0m\u001b[1;32m    294\u001b[0m         \u001b[0;32mif\u001b[0m \u001b[0mlen\u001b[0m\u001b[0;34m(\u001b[0m\u001b[0mscores\u001b[0m\u001b[0;34m.\u001b[0m\u001b[0mshape\u001b[0m\u001b[0;34m)\u001b[0m \u001b[0;34m==\u001b[0m \u001b[0;36m1\u001b[0m\u001b[0;34m:\u001b[0m\u001b[0;34m\u001b[0m\u001b[0;34m\u001b[0m\u001b[0m\n\u001b[1;32m    295\u001b[0m             \u001b[0mindices\u001b[0m \u001b[0;34m=\u001b[0m \u001b[0;34m(\u001b[0m\u001b[0mscores\u001b[0m \u001b[0;34m>\u001b[0m \u001b[0;36m0\u001b[0m\u001b[0;34m)\u001b[0m\u001b[0;34m.\u001b[0m\u001b[0mastype\u001b[0m\u001b[0;34m(\u001b[0m\u001b[0mnp\u001b[0m\u001b[0;34m.\u001b[0m\u001b[0mint\u001b[0m\u001b[0;34m)\u001b[0m\u001b[0;34m\u001b[0m\u001b[0;34m\u001b[0m\u001b[0m\n",
            "\u001b[0;32m/usr/local/lib/python3.6/dist-packages/sklearn/linear_model/_base.py\u001b[0m in \u001b[0;36mdecision_function\u001b[0;34m(self, X)\u001b[0m\n\u001b[1;32m    271\u001b[0m         \u001b[0;32mif\u001b[0m \u001b[0mX\u001b[0m\u001b[0;34m.\u001b[0m\u001b[0mshape\u001b[0m\u001b[0;34m[\u001b[0m\u001b[0;36m1\u001b[0m\u001b[0;34m]\u001b[0m \u001b[0;34m!=\u001b[0m \u001b[0mn_features\u001b[0m\u001b[0;34m:\u001b[0m\u001b[0;34m\u001b[0m\u001b[0;34m\u001b[0m\u001b[0m\n\u001b[1;32m    272\u001b[0m             raise ValueError(\"X has %d features per sample; expecting %d\"\n\u001b[0;32m--> 273\u001b[0;31m                              % (X.shape[1], n_features))\n\u001b[0m\u001b[1;32m    274\u001b[0m \u001b[0;34m\u001b[0m\u001b[0m\n\u001b[1;32m    275\u001b[0m         scores = safe_sparse_dot(X, self.coef_.T,\n",
            "\u001b[0;31mValueError\u001b[0m: X has 21 features per sample; expecting 36"
          ]
        }
      ]
    },
    {
      "cell_type": "code",
      "metadata": {
        "id": "m7g6IAQqAPzH",
        "colab_type": "code",
        "colab": {}
      },
      "source": [
        "# Lets import the submission file which we have to submit on the solution checker.\n",
        "submission=pd.read_csv(\"https://github.com/theamitabh/jupytr-notebooks/raw/master/sample_submission_49d68Cx.csv\")\n",
        "\n",
        "#We only need the Loan_ID and the corresponding Loan_Status for the final submission. we will fill these\n",
        "#columns with the Loan_ID of test dataset and the predictions that we made, i.e., pred_test respectively.\n",
        "submission['Loan_Status']=pred_test\n",
        "submission['Loan_ID']=test_original['Loan_ID']\n",
        "\n",
        "#Remember we need predictions in Y and N. So let’s convert 1 and 0 to Y and N.\n",
        "submission['Loan_Status'].replace(0, 'N',inplace=True)\n",
        "submission['Loan_Status'].replace(1, 'Y',inplace=True)\n",
        "\n",
        "#Finally we will convert the submission to .csv format and make submission to check the accuracy on the\n",
        "leaderboard.pd.DataFrame(submission, columns=['Loan_ID','Loan_Status']).to_csv('logistic.csv')\n",
        "#From this submission we got an accuracy of 0.7847 on the leaderboard.\n",
        "#Instead of creating validation set, we can also make use of cross validation to validate our predictions. We will\n",
        "#learn about this technique in next section"
      ],
      "execution_count": 0,
      "outputs": []
    }
  ]
}