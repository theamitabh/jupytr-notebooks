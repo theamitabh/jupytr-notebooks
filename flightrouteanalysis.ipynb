{
  "nbformat": 4,
  "nbformat_minor": 0,
  "metadata": {
    "colab": {
      "name": "001EyAmit.ipynb",
      "provenance": [],
      "collapsed_sections": []
    },
    "kernelspec": {
      "name": "python3",
      "display_name": "Python 3"
    }
  },
  "cells": [
    {
      "cell_type": "code",
      "metadata": {
        "id": "1Hg-3p7PRvbE",
        "colab_type": "code",
        "colab": {}
      },
      "source": [
        "import requests\n",
        "\n",
        "url = 'https://pnr_url'\n",
        "\n",
        "#use the 'headers' parameter to set the HTTP headers:\n",
        "resp = requests.get(url, headers = {\"apikeys\": \"xxxxxxxxxxxxxxxxxxxxx\"})\n"
      ],
      "execution_count": 0,
      "outputs": []
    },
    {
      "cell_type": "markdown",
      "metadata": {
        "id": "LhUaMs4a-FmO",
        "colab_type": "text"
      },
      "source": [
        ""
      ]
    },
    {
      "cell_type": "code",
      "metadata": {
        "id": "ryAPRsLJTvcW",
        "colab_type": "code",
        "colab": {}
      },
      "source": [
        "import pandas as pd\n",
        "from pandas.io.json import json_normalize\n",
        "\n",
        "data = resp.json()\n",
        "ids = json_normalize(data['result'])\n",
        "df = pd.DataFrame.from_dict(ids)\n",
        "df.tail(2)\n",
        "df.columns\n",
        "\n"
      ],
      "execution_count": 0,
      "outputs": []
    },
    {
      "cell_type": "code",
      "metadata": {
        "id": "Xn2c_vsUJWLU",
        "colab_type": "code",
        "colab": {}
      },
      "source": [
        "df[['id.recordLocator', 'id.pnrCreationDate','fields.operatingFlightNumbers','fields.departureAirports', 'fields.departureDates', 'fields.nationalities' ]]\n",
        "\n",
        "\n",
        "\n"
      ],
      "execution_count": 0,
      "outputs": []
    },
    {
      "cell_type": "code",
      "metadata": {
        "id": "eshM8-9xhwzE",
        "colab_type": "code",
        "colab": {}
      },
      "source": [
        ""
      ],
      "execution_count": 0,
      "outputs": []
    },
    {
      "cell_type": "markdown",
      "metadata": {
        "id": "1NJAuTiyhwi-",
        "colab_type": "text"
      },
      "source": [
        ""
      ]
    },
    {
      "cell_type": "code",
      "metadata": {
        "id": "tM26wmA7AEr-",
        "colab_type": "code",
        "outputId": "730687c8-2ba6-44ba-871a-06fd869c928c",
        "colab": {
          "base_uri": "https://localhost:8080/",
          "height": 34
        }
      },
      "source": [
        "#Count the Pax\n",
        "df['fields.numberInParty'].sum()\n",
        "\n",
        "\n"
      ],
      "execution_count": 7,
      "outputs": [
        {
          "output_type": "execute_result",
          "data": {
            "text/plain": [
              "424"
            ]
          },
          "metadata": {
            "tags": []
          },
          "execution_count": 7
        }
      ]
    },
    {
      "cell_type": "code",
      "metadata": {
        "id": "A0pzrmR5jo82",
        "colab_type": "code",
        "outputId": "8499757b-2f1e-4d6b-b17d-d9186d47cf38",
        "colab": {
          "base_uri": "https://localhost:8080/",
          "height": 874
        }
      },
      "source": [
        "# Identify  Routes and Aggregate it\n",
        "# List to string\n",
        "df['route'] = df['fields.departureAirports'].agg(lambda x: ','.join(map(str, x)))\n",
        "# Unique counts of \n",
        "df['route'].value_counts().head(50)\n",
        "\n"
      ],
      "execution_count": 8,
      "outputs": [
        {
          "output_type": "execute_result",
          "data": {
            "text/plain": [
              "JFK,AUH                        78\n",
              "JFK,AUH,HYD                    23\n",
              "JFK,AUH,AMD                    18\n",
              "JFK,AUH,COK                    15\n",
              "JFK,AUH,LHE                    12\n",
              "JFK                            11\n",
              "JFK,AUH,MAA                    11\n",
              "AUH,JFK                        10\n",
              "JFK,AUH,TRV                    10\n",
              "JFK,AUH,BLR                    10\n",
              "JFK,AUH,DEL                     9\n",
              "JFK,AUH,BOM                     7\n",
              "DEL,AUH,JFK                     7\n",
              "LHE,AUH,JFK                     5\n",
              "JFK,AUH,BKK                     5\n",
              "HYD,AUH,JFK                     4\n",
              "JFK,AUH,ISB                     4\n",
              "AUH,JFK,MCO                     3\n",
              "BOM,AUH,JFK                     3\n",
              "JFK,AUH,CCJ                     3\n",
              "AUH,JFK,FLL                     2\n",
              "BLR,AUH,JFK                     2\n",
              "JFK,AUH,KWI,DOH                 2\n",
              "JFK,AUH,KHI                     2\n",
              "AMM,AUH,JFK                     2\n",
              "TPA,JFK,AUH                     2\n",
              "KWI,AUH,JFK                     2\n",
              "BLR,AUH,EWR,JFK                 2\n",
              "PHX,JFK,AUH,HYD                 2\n",
              "JFK,AUH,HYD,ORD                 2\n",
              "JAX,JFK,AUH,HYD                 2\n",
              "BOG,JFK,AUH,LHR                 1\n",
              "PIT,JFK,AUH,DEL,ORD             1\n",
              "COK,AUH,JFK                     1\n",
              "BAH,AUH,JFK                     1\n",
              "RDU,JFK,AUH,ASW,CAI,UDR,DEL     1\n",
              "SIN,AUH,JFK,MCO,BOG,GRU         1\n",
              "BNA,JFK,AUH,ISB,ORD             1\n",
              "LIM,JFK,AUH                     1\n",
              "RUH,AUH,JFK                     1\n",
              "DMM,AUH,JFK                     1\n",
              "BLR,AUH,JFK,PHX                 1\n",
              "MCO,JFK,AUH,AMD                 1\n",
              "JFK,AUH,MEL                     1\n",
              "SFO,JFK,AUH,AMD                 1\n",
              "JFK,AUH,MLE,DOH                 1\n",
              "MCO,JFK,AUH,HYD,ORD             1\n",
              "BNE,AUH,JFK                     1\n",
              "CMB,AUH,JFK                     1\n",
              "BUF,JFK                         1\n",
              "Name: route, dtype: int64"
            ]
          },
          "metadata": {
            "tags": []
          },
          "execution_count": 8
        }
      ]
    },
    {
      "cell_type": "code",
      "metadata": {
        "id": "ZI2TuhKDNA1S",
        "colab_type": "code",
        "colab": {}
      },
      "source": [
        "#Airport Code Lookup\n",
        "dfairports = pd.read_csv('http://ourairports.com/data/airports.csv')\n"
      ],
      "execution_count": 0,
      "outputs": []
    },
    {
      "cell_type": "code",
      "metadata": {
        "id": "WyqD-aBiQ6T0",
        "colab_type": "code",
        "colab": {}
      },
      "source": [
        "# Find \n",
        "#  iata_airports = dfairports[dfairports['iata_code'].notnull()]\n",
        "iata_airports1 =  dfairports.dropna(subset=['iata_code'])\n",
        "\n",
        "# Filter for a value \n",
        "# iata_airports1[iata_airports1.iata_code == 'CCJ']    \n"
      ],
      "execution_count": 0,
      "outputs": []
    },
    {
      "cell_type": "markdown",
      "metadata": {
        "id": "oR4s7EhcQjQw",
        "colab_type": "text"
      },
      "source": [
        ""
      ]
    }
  ]
}
